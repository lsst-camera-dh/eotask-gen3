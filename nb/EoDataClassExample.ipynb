{
 "cells": [
  {
   "cell_type": "code",
   "execution_count": null,
   "id": "bb3861cb",
   "metadata": {},
   "outputs": [],
   "source": [
    "# imports\n",
    "import os\n",
    "import numpy as np\n",
    "from lsst.eotask_gen3 import EoReadNoiseData"
   ]
  },
  {
   "cell_type": "code",
   "execution_count": null,
   "id": "f59d2a4a",
   "metadata": {},
   "outputs": [],
   "source": [
    "# Lets get some data to define the table shape\n",
    "tableDefs = EoReadNoiseData.testData['testCtor']\n",
    "print(tableDefs)"
   ]
  },
  {
   "cell_type": "code",
   "execution_count": null,
   "id": "347d6029",
   "metadata": {},
   "outputs": [],
   "source": [
    "# Lets build a data object\n",
    "eoReadNoiseData = EoReadNoiseData(**tableDefs)"
   ]
  },
  {
   "cell_type": "code",
   "execution_count": null,
   "id": "d1c87c0c",
   "metadata": {},
   "outputs": [],
   "source": [
    "# Lets see what we have\n",
    "eoReadNoiseData.tables"
   ]
  },
  {
   "cell_type": "code",
   "execution_count": null,
   "id": "425cfeed",
   "metadata": {},
   "outputs": [],
   "source": [
    "# Lets get a table from the list\n",
    "eoReadNoiseData.tables[0]"
   ]
  },
  {
   "cell_type": "code",
   "execution_count": null,
   "id": "bf8ca10a",
   "metadata": {},
   "outputs": [],
   "source": [
    "# Lets get a table by name\n",
    "eoReadNoiseData.ampExposure['ampExp_00'].table"
   ]
  },
  {
   "cell_type": "code",
   "execution_count": null,
   "id": "9fc16d49",
   "metadata": {},
   "outputs": [],
   "source": [
    "# Lets get a variable by name\n",
    "eoReadNoiseData.ampExposure['ampExp_00'].totalNoise"
   ]
  },
  {
   "cell_type": "code",
   "execution_count": null,
   "id": "b781f99c",
   "metadata": {},
   "outputs": [],
   "source": [
    "# Lets set a variable by name\n",
    "totalNoise = eoReadNoiseData.ampExposure['ampExp_00'].totalNoise\n",
    "totalNoise[7] = np.random.random(size=100)"
   ]
  },
  {
   "cell_type": "code",
   "execution_count": null,
   "id": "eeebf7ea",
   "metadata": {},
   "outputs": [],
   "source": [
    "# And check to make sure it is set\n",
    "eoReadNoiseData.ampExposure['ampExp_00'].totalNoise"
   ]
  },
  {
   "cell_type": "code",
   "execution_count": null,
   "id": "ce38dc4d",
   "metadata": {},
   "outputs": [],
   "source": [
    "testFileName = \"test.fits\"\n",
    "eoReadNoiseData.writeFits(testFileName)"
   ]
  },
  {
   "cell_type": "code",
   "execution_count": null,
   "id": "49308b00",
   "metadata": {},
   "outputs": [],
   "source": [
    "readbackData = EoReadNoiseData.readFits(testFileName)"
   ]
  },
  {
   "cell_type": "code",
   "execution_count": null,
   "id": "5239d600",
   "metadata": {},
   "outputs": [],
   "source": [
    "check = (readbackData == eoReadNoiseData)"
   ]
  },
  {
   "cell_type": "code",
   "execution_count": null,
   "id": "e8f127c7",
   "metadata": {},
   "outputs": [],
   "source": [
    "check"
   ]
  },
  {
   "cell_type": "code",
   "execution_count": null,
   "id": "83c58ea9",
   "metadata": {},
   "outputs": [],
   "source": [
    "eoReadNoiseData.schema"
   ]
  },
  {
   "cell_type": "code",
   "execution_count": null,
   "id": "cfe67e08",
   "metadata": {},
   "outputs": [],
   "source": [
    "readbackData.tables[0].meta"
   ]
  },
  {
   "cell_type": "code",
   "execution_count": null,
   "id": "2e93cae6",
   "metadata": {},
   "outputs": [],
   "source": []
  }
 ],
 "metadata": {
  "kernelspec": {
   "display_name": "Python 3",
   "language": "python",
   "name": "python3"
  },
  "language_info": {
   "codemirror_mode": {
    "name": "ipython",
    "version": 3
   },
   "file_extension": ".py",
   "mimetype": "text/x-python",
   "name": "python",
   "nbconvert_exporter": "python",
   "pygments_lexer": "ipython3",
   "version": "3.8.8"
  }
 },
 "nbformat": 4,
 "nbformat_minor": 5
}
